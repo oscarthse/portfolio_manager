{
 "cells": [
  {
   "cell_type": "code",
   "execution_count": 1,
   "id": "4aa26b33",
   "metadata": {},
   "outputs": [],
   "source": [
    "def rename_macroeconomic(df_macroeconomic):\n",
    "    columns_macroeconomic = [\"datetime\", \"interest_rate\", \"GDP\", \"inflation\"]\n",
    "    df_macroeconomic.columns = columns_macroeconomic\n",
    "    return df_macroeconomic\n",
    "\n",
    "def merge_macroeconomic(df_technical, df_macroeconomic):\n",
    "    df_merged = df_technical.merge(df_macroeconomic, on=\"datetime\", how=\"inner\")\n",
    "    return df_merged\n",
    "\n",
    "def rename_columns(df):\n",
    "    columns = [\"datetime\", \"open\", \"high\", \"low\", \"close\", \"volume\"]\n",
    "    df.columns = columns\n",
    "    return df\n",
    "\n",
    "def rename_technical(df_technical):\n",
    "    df_technical = df_technical.rename(columns = {\"Unnamed: 0\": \"datetime\"})\n",
    "    return df_technical\n",
    "\n",
    "def convert_datetime(df):\n",
    "    data = df.copy()\n",
    "    data[\"datetime\"] = pd.to_datetime(data[\"datetime\"])\n",
    "    return data\n",
    "\n",
    "def merge_columns(df_values, df_technical):\n",
    "    df_merged = df_values.merge(df_technical, how=\"inner\", on=\"datetime\")\n",
    "    return df_merged\n",
    "\n",
    "def clean_data(df):\n",
    "    df_inter = df.interpolate(method='linear')\n",
    "    df_clean = df_inter.dropna()\n",
    "    return df_clean\n",
    "\n",
    "def create_target(df, column_name, new_column_name='Target'):\n",
    "    result = []\n",
    "    for i in range(1, len(df)):\n",
    "        change_percent = (df[column_name].iloc[i] / df[column_name].iloc[i-1] - 1) * 100\n",
    "        if change_percent > 0.07:\n",
    "            result.append(1)\n",
    "        elif change_percent < -0.07:\n",
    "            result.append(-1)\n",
    "        else:\n",
    "            result.append(0)\n",
    "    \n",
    "    result.append(float('nan'))\n",
    "\n",
    "    df[new_column_name] = pd.Series(result, index=df.index)\n",
    "\n",
    "    return df\n",
    "\n",
    "def target_drop(df_final):\n",
    "    df_final = df_final.dropna()\n",
    "    return df_final\n",
    "\n",
    "def convert_time_sin_cos(df):\n",
    "    data = df.copy()\n",
    "    data['day_of_year'] = data['datetime'].dt.dayofyear\n",
    "    data['time_of_day'] = data['datetime'].dt.hour * 3600 + data['datetime'].dt.minute * 60 + data['datetime'].dt.second\n",
    "    data['day_of_year_norm'] = data['day_of_year'] / 365.0\n",
    "    data['time_of_day_norm'] = data['time_of_day'] / 86400.0\n",
    "    data['cos_time_of_day'] = np.cos(2 * np.pi * data['time_of_day_norm'])\n",
    "    data['sin_time_of_day'] = np.sin(2 * np.pi * data['time_of_day_norm'])\n",
    "    data[\"cos_day_of_year\"] = np.cos(2 * np.pi * data['day_of_year_norm'])\n",
    "    data[\"sin_day_of_year\"] = np.sin(2 * np.pi * data['day_of_year_norm'])\n",
    "    df_converted = data.drop(columns = [\"day_of_year\", \"time_of_day\", \"day_of_year_norm\", \"time_of_day_norm\", \"datetime\"])\n",
    "    return df_converted\n",
    "\n",
    "def log_divide_next(df):\n",
    "    log_returns = np.log(df['close'] / df['close'].shift(1))\n",
    "    return log_returns\n",
    "\n",
    "def split_into_categories(df, column_name, prefix='Category'):\n",
    "\n",
    "    df[f'{prefix}_1'] = (df[column_name] == 1).astype(int)\n",
    "    df[f'{prefix}_0'] = (df[column_name] == 0).astype(int)\n",
    "    df[f'{prefix}_-1'] = (df[column_name] == -1).astype(int)\n",
    "    \n",
    "    return df"
   ]
  },
  {
   "cell_type": "code",
   "execution_count": 2,
   "id": "da88a404",
   "metadata": {},
   "outputs": [],
   "source": [
    "def create_x_y(df_data, df_technical, df_macroeconomic):\n",
    "    df_macroeconomic = rename_macroeconomic(df_macroeconomic)\n",
    "    df_technical = rename_technical(df_technical)\n",
    "    df_data = rename_columns(df_data)\n",
    "    df_technical = clean_data(df_technical)\n",
    "    df_data = convert_datetime(df_data)\n",
    "    df_technical = convert_datetime(df_technical)\n",
    "    df_macroeconomic = convert_datetime(df_macroeconomic)\n",
    "    df_technical = merge_macroeconomic(df_technical, df_macroeconomic)\n",
    "    df_merged = merge_columns(df_data, df_technical)\n",
    "    df_target = create_target(df_merged, \"close\")\n",
    "    df_final = target_drop(df_target)\n",
    "    df_time = convert_time_sin_cos(df_final)\n",
    "    X = df_time.drop(columns = \"Target\")\n",
    "    y_initial = df_time[[\"Target\"]]\n",
    "    y = split_into_categories(y_initial, \"Target\")\n",
    "    y = y.drop(columns = \"Target\")\n",
    "    log_df = log_divide_next(df_data).dropna()\n",
    "    return X, y, log_df"
   ]
  },
  {
   "cell_type": "code",
   "execution_count": 3,
   "id": "209f3b44",
   "metadata": {},
   "outputs": [],
   "source": [
    "from logic.getting import *"
   ]
  },
  {
   "cell_type": "code",
   "execution_count": 4,
   "id": "a9b31d86",
   "metadata": {},
   "outputs": [],
   "source": [
    "from logic.scaler import *"
   ]
  },
  {
   "cell_type": "code",
   "execution_count": null,
   "id": "24ae385d",
   "metadata": {},
   "outputs": [],
   "source": []
  },
  {
   "cell_type": "code",
   "execution_count": 5,
   "id": "be362110",
   "metadata": {},
   "outputs": [],
   "source": [
    "from logic.windows_preproc import *"
   ]
  },
  {
   "cell_type": "code",
   "execution_count": 6,
   "id": "bcbf4b34",
   "metadata": {},
   "outputs": [],
   "source": [
    "from tensorflow.keras.layers import Normalization\n",
    "from tensorflow.keras.models import Sequential\n",
    "from tensorflow.keras.layers import Dense, SimpleRNN, Flatten, LSTM, GRU, Embedding\n",
    "import tensorflow.keras.layers as layers\n",
    "from tensorflow.keras.callbacks import EarlyStopping\n",
    "from tensorflow.keras.preprocessing.sequence import pad_sequences\n",
    "from tensorflow.keras.optimizers import Adam\n",
    "from tensorflow.keras.metrics import hinge, Recall, Precision, PrecisionAtRecall\n",
    "from tensorflow.keras import models, layers, regularizers\n",
    "from tensorflow.keras.utils import to_categorical\n",
    "import tensorflow.keras.utils as utils\n",
    "from tensorflow.keras import regularizers\n",
    "from tensorflow.keras.optimizers.schedules import ExponentialDecay"
   ]
  },
  {
   "cell_type": "code",
   "execution_count": 15,
   "id": "a3ea60be",
   "metadata": {},
   "outputs": [],
   "source": [
    "price = get_price_data_raw('JNJ')"
   ]
  },
  {
   "cell_type": "code",
   "execution_count": 16,
   "id": "bb7c3bf3",
   "metadata": {},
   "outputs": [],
   "source": [
    "price = price.sort_values(by='timestamp_field_0')"
   ]
  },
  {
   "cell_type": "code",
   "execution_count": 17,
   "id": "eb082590",
   "metadata": {},
   "outputs": [],
   "source": [
    "tech = get_technical_analysis('JNJ')"
   ]
  },
  {
   "cell_type": "code",
   "execution_count": 18,
   "id": "0a19824b",
   "metadata": {},
   "outputs": [],
   "source": [
    "tech = tech.sort_values(by='timestamp_field_0')"
   ]
  },
  {
   "cell_type": "code",
   "execution_count": 19,
   "id": "1698d492",
   "metadata": {},
   "outputs": [],
   "source": [
    "macro = get_macro_data()"
   ]
  },
  {
   "cell_type": "code",
   "execution_count": 20,
   "id": "391ec6fe",
   "metadata": {},
   "outputs": [],
   "source": [
    "macro = macro.sort_values(by='timestamp')"
   ]
  },
  {
   "cell_type": "code",
   "execution_count": 24,
   "id": "902b5c52",
   "metadata": {},
   "outputs": [],
   "source": [
    "macro.drop(columns = 'int64_field_0', inplace=True)"
   ]
  },
  {
   "cell_type": "code",
   "execution_count": 31,
   "id": "6724e5d5",
   "metadata": {},
   "outputs": [],
   "source": [
    "tech.columns = ['datetime', 'EMA', 'SlowK', 'SlowD', 'Real Upper Band',\n",
    "       'Real Middle Band', 'Real Lower Band', 'WILLR', 'ATR', 'CMO', 'MACD',\n",
    "       'MACD_Signal', 'MACD_Hist', 'RSI', 'OBV', 'SAR']"
   ]
  },
  {
   "cell_type": "code",
   "execution_count": 32,
   "id": "03e8ddf5",
   "metadata": {},
   "outputs": [
    {
     "name": "stderr",
     "output_type": "stream",
     "text": [
      "/var/folders/7w/19z1p17n6vb_v1k8gw86dgm40000gn/T/ipykernel_7322/1629352313.py:73: SettingWithCopyWarning: \n",
      "A value is trying to be set on a copy of a slice from a DataFrame.\n",
      "Try using .loc[row_indexer,col_indexer] = value instead\n",
      "\n",
      "See the caveats in the documentation: https://pandas.pydata.org/pandas-docs/stable/user_guide/indexing.html#returning-a-view-versus-a-copy\n",
      "  df[f'{prefix}_1'] = (df[column_name] == 1).astype(int)\n",
      "/var/folders/7w/19z1p17n6vb_v1k8gw86dgm40000gn/T/ipykernel_7322/1629352313.py:74: SettingWithCopyWarning: \n",
      "A value is trying to be set on a copy of a slice from a DataFrame.\n",
      "Try using .loc[row_indexer,col_indexer] = value instead\n",
      "\n",
      "See the caveats in the documentation: https://pandas.pydata.org/pandas-docs/stable/user_guide/indexing.html#returning-a-view-versus-a-copy\n",
      "  df[f'{prefix}_0'] = (df[column_name] == 0).astype(int)\n",
      "/var/folders/7w/19z1p17n6vb_v1k8gw86dgm40000gn/T/ipykernel_7322/1629352313.py:75: SettingWithCopyWarning: \n",
      "A value is trying to be set on a copy of a slice from a DataFrame.\n",
      "Try using .loc[row_indexer,col_indexer] = value instead\n",
      "\n",
      "See the caveats in the documentation: https://pandas.pydata.org/pandas-docs/stable/user_guide/indexing.html#returning-a-view-versus-a-copy\n",
      "  df[f'{prefix}_-1'] = (df[column_name] == -1).astype(int)\n"
     ]
    }
   ],
   "source": [
    "X, y, log_df = create_x_y(price, tech, macro)"
   ]
  },
  {
   "cell_type": "raw",
   "id": "2609ceec",
   "metadata": {},
   "source": [
    "X.shape"
   ]
  },
  {
   "cell_type": "code",
   "execution_count": 33,
   "id": "3c8c1402",
   "metadata": {},
   "outputs": [
    {
     "data": {
      "text/plain": [
       "(95357, 27)"
      ]
     },
     "execution_count": 33,
     "metadata": {},
     "output_type": "execute_result"
    }
   ],
   "source": [
    "X.shape"
   ]
  },
  {
   "cell_type": "code",
   "execution_count": 34,
   "id": "a2a070f4",
   "metadata": {},
   "outputs": [],
   "source": [
    "X = X.drop(columns = [\"interest_rate\", \"GDP\", \"inflation\", \"cos_time_of_day\", \"sin_time_of_day\", \"cos_day_of_year\", \"sin_day_of_year\"])"
   ]
  },
  {
   "cell_type": "code",
   "execution_count": 35,
   "id": "626cdcc8",
   "metadata": {},
   "outputs": [],
   "source": [
    "X_train = X[:70000]"
   ]
  },
  {
   "cell_type": "code",
   "execution_count": 36,
   "id": "e8d578c0",
   "metadata": {},
   "outputs": [],
   "source": [
    "X_val = X[70000:80000]"
   ]
  },
  {
   "cell_type": "code",
   "execution_count": 37,
   "id": "7554d565",
   "metadata": {},
   "outputs": [],
   "source": [
    "X_test = X[80000:]"
   ]
  },
  {
   "cell_type": "code",
   "execution_count": 38,
   "id": "fd2d0427",
   "metadata": {},
   "outputs": [],
   "source": [
    "y_train = y[:70000]"
   ]
  },
  {
   "cell_type": "code",
   "execution_count": 39,
   "id": "856ac7cd",
   "metadata": {},
   "outputs": [],
   "source": [
    "y_val = y[70000:80000]"
   ]
  },
  {
   "cell_type": "code",
   "execution_count": 40,
   "id": "b2f08bb9",
   "metadata": {},
   "outputs": [],
   "source": [
    "y_test = y[80000:]"
   ]
  },
  {
   "cell_type": "code",
   "execution_count": 41,
   "id": "de3b5a69",
   "metadata": {},
   "outputs": [],
   "source": [
    "scaler = initialize_scaler(X_train)"
   ]
  },
  {
   "cell_type": "code",
   "execution_count": 42,
   "id": "0827600a",
   "metadata": {},
   "outputs": [],
   "source": [
    "X_train_sc = transform_scaler(scaler, X_train)"
   ]
  },
  {
   "cell_type": "code",
   "execution_count": 43,
   "id": "5e8c99e9",
   "metadata": {},
   "outputs": [],
   "source": [
    "X_val_sc = transform_scaler(scaler, X_val)"
   ]
  },
  {
   "cell_type": "code",
   "execution_count": 44,
   "id": "85b63bd2",
   "metadata": {},
   "outputs": [],
   "source": [
    "X_test_sc = transform_scaler(scaler, X_test)"
   ]
  },
  {
   "cell_type": "code",
   "execution_count": 45,
   "id": "183a79b1",
   "metadata": {},
   "outputs": [],
   "source": [
    "X_tr_w, y_tr_w = create_lstm_windows(X_train_sc, y_train, 20)"
   ]
  },
  {
   "cell_type": "code",
   "execution_count": 46,
   "id": "5d9dfc79",
   "metadata": {},
   "outputs": [],
   "source": [
    "X_val_w, y_val_w = create_lstm_windows(X_val_sc, y_val, 20)"
   ]
  },
  {
   "cell_type": "code",
   "execution_count": 48,
   "id": "1fd9629c",
   "metadata": {},
   "outputs": [],
   "source": [
    "X_te_w, y_te_w = create_lstm_windows(X_test_sc, y_test, 20)"
   ]
  },
  {
   "cell_type": "code",
   "execution_count": 127,
   "id": "df8c417d",
   "metadata": {},
   "outputs": [
    {
     "data": {
      "text/html": [
       "<div>\n",
       "<style scoped>\n",
       "    .dataframe tbody tr th:only-of-type {\n",
       "        vertical-align: middle;\n",
       "    }\n",
       "\n",
       "    .dataframe tbody tr th {\n",
       "        vertical-align: top;\n",
       "    }\n",
       "\n",
       "    .dataframe thead th {\n",
       "        text-align: right;\n",
       "    }\n",
       "</style>\n",
       "<table border=\"1\" class=\"dataframe\">\n",
       "  <thead>\n",
       "    <tr style=\"text-align: right;\">\n",
       "      <th></th>\n",
       "      <th>datetime</th>\n",
       "      <th>open</th>\n",
       "      <th>high</th>\n",
       "      <th>low</th>\n",
       "      <th>close</th>\n",
       "      <th>volume</th>\n",
       "    </tr>\n",
       "  </thead>\n",
       "  <tbody>\n",
       "    <tr>\n",
       "      <th>33256</th>\n",
       "      <td>2005-01-03 09:30:00+00:00</td>\n",
       "      <td>36.738</td>\n",
       "      <td>36.981</td>\n",
       "      <td>36.460</td>\n",
       "      <td>36.730</td>\n",
       "      <td>909200</td>\n",
       "    </tr>\n",
       "    <tr>\n",
       "      <th>33255</th>\n",
       "      <td>2005-01-03 10:00:00+00:00</td>\n",
       "      <td>36.738</td>\n",
       "      <td>36.865</td>\n",
       "      <td>36.373</td>\n",
       "      <td>36.521</td>\n",
       "      <td>941700</td>\n",
       "    </tr>\n",
       "    <tr>\n",
       "      <th>7779</th>\n",
       "      <td>2005-01-03 10:30:00+00:00</td>\n",
       "      <td>36.535</td>\n",
       "      <td>36.661</td>\n",
       "      <td>36.327</td>\n",
       "      <td>36.515</td>\n",
       "      <td>435700</td>\n",
       "    </tr>\n",
       "    <tr>\n",
       "      <th>40536</th>\n",
       "      <td>2005-01-03 11:00:00+00:00</td>\n",
       "      <td>36.523</td>\n",
       "      <td>36.667</td>\n",
       "      <td>36.292</td>\n",
       "      <td>36.469</td>\n",
       "      <td>551800</td>\n",
       "    </tr>\n",
       "    <tr>\n",
       "      <th>86311</th>\n",
       "      <td>2005-01-03 11:30:00+00:00</td>\n",
       "      <td>36.483</td>\n",
       "      <td>36.615</td>\n",
       "      <td>36.298</td>\n",
       "      <td>36.446</td>\n",
       "      <td>443200</td>\n",
       "    </tr>\n",
       "    <tr>\n",
       "      <th>...</th>\n",
       "      <td>...</td>\n",
       "      <td>...</td>\n",
       "      <td>...</td>\n",
       "      <td>...</td>\n",
       "      <td>...</td>\n",
       "      <td>...</td>\n",
       "    </tr>\n",
       "    <tr>\n",
       "      <th>91592</th>\n",
       "      <td>2023-08-31 17:30:00+00:00</td>\n",
       "      <td>159.466</td>\n",
       "      <td>159.492</td>\n",
       "      <td>159.002</td>\n",
       "      <td>159.167</td>\n",
       "      <td>10146</td>\n",
       "    </tr>\n",
       "    <tr>\n",
       "      <th>77034</th>\n",
       "      <td>2023-08-31 18:00:00+00:00</td>\n",
       "      <td>159.150</td>\n",
       "      <td>159.501</td>\n",
       "      <td>158.992</td>\n",
       "      <td>159.315</td>\n",
       "      <td>764</td>\n",
       "    </tr>\n",
       "    <tr>\n",
       "      <th>92327</th>\n",
       "      <td>2023-08-31 18:30:00+00:00</td>\n",
       "      <td>159.180</td>\n",
       "      <td>159.472</td>\n",
       "      <td>159.140</td>\n",
       "      <td>159.197</td>\n",
       "      <td>2252469</td>\n",
       "    </tr>\n",
       "    <tr>\n",
       "      <th>92326</th>\n",
       "      <td>2023-08-31 19:00:00+00:00</td>\n",
       "      <td>159.180</td>\n",
       "      <td>159.442</td>\n",
       "      <td>159.140</td>\n",
       "      <td>159.305</td>\n",
       "      <td>2252570</td>\n",
       "    </tr>\n",
       "    <tr>\n",
       "      <th>90841</th>\n",
       "      <td>2023-08-31 19:30:00+00:00</td>\n",
       "      <td>159.377</td>\n",
       "      <td>159.403</td>\n",
       "      <td>159.042</td>\n",
       "      <td>159.393</td>\n",
       "      <td>202</td>\n",
       "    </tr>\n",
       "  </tbody>\n",
       "</table>\n",
       "<p>95418 rows × 6 columns</p>\n",
       "</div>"
      ],
      "text/plain": [
       "                       datetime     open     high      low    close   volume\n",
       "33256 2005-01-03 09:30:00+00:00   36.738   36.981   36.460   36.730   909200\n",
       "33255 2005-01-03 10:00:00+00:00   36.738   36.865   36.373   36.521   941700\n",
       "7779  2005-01-03 10:30:00+00:00   36.535   36.661   36.327   36.515   435700\n",
       "40536 2005-01-03 11:00:00+00:00   36.523   36.667   36.292   36.469   551800\n",
       "86311 2005-01-03 11:30:00+00:00   36.483   36.615   36.298   36.446   443200\n",
       "...                         ...      ...      ...      ...      ...      ...\n",
       "91592 2023-08-31 17:30:00+00:00  159.466  159.492  159.002  159.167    10146\n",
       "77034 2023-08-31 18:00:00+00:00  159.150  159.501  158.992  159.315      764\n",
       "92327 2023-08-31 18:30:00+00:00  159.180  159.472  159.140  159.197  2252469\n",
       "92326 2023-08-31 19:00:00+00:00  159.180  159.442  159.140  159.305  2252570\n",
       "90841 2023-08-31 19:30:00+00:00  159.377  159.403  159.042  159.393      202\n",
       "\n",
       "[95418 rows x 6 columns]"
      ]
     },
     "execution_count": 127,
     "metadata": {},
     "output_type": "execute_result"
    }
   ],
   "source": [
    "price"
   ]
  },
  {
   "cell_type": "code",
   "execution_count": 131,
   "id": "85a89d6a",
   "metadata": {},
   "outputs": [
    {
     "name": "stdout",
     "output_type": "stream",
     "text": [
      "datetime\n",
      "open\n",
      "high\n",
      "low\n",
      "close\n",
      "volume\n"
     ]
    }
   ],
   "source": [
    "for elem in price:\n",
    "    print(elem)\n",
    "    "
   ]
  },
  {
   "cell_type": "code",
   "execution_count": 132,
   "id": "c9b10576",
   "metadata": {},
   "outputs": [],
   "source": [
    "df = price.copy()"
   ]
  },
  {
   "cell_type": "code",
   "execution_count": 133,
   "id": "32e2fd5c",
   "metadata": {},
   "outputs": [],
   "source": [
    "df['next_open'] = df['open'].shift(-1)"
   ]
  },
  {
   "cell_type": "code",
   "execution_count": 134,
   "id": "8d3c9e3f",
   "metadata": {},
   "outputs": [
    {
     "data": {
      "text/html": [
       "<div>\n",
       "<style scoped>\n",
       "    .dataframe tbody tr th:only-of-type {\n",
       "        vertical-align: middle;\n",
       "    }\n",
       "\n",
       "    .dataframe tbody tr th {\n",
       "        vertical-align: top;\n",
       "    }\n",
       "\n",
       "    .dataframe thead th {\n",
       "        text-align: right;\n",
       "    }\n",
       "</style>\n",
       "<table border=\"1\" class=\"dataframe\">\n",
       "  <thead>\n",
       "    <tr style=\"text-align: right;\">\n",
       "      <th></th>\n",
       "      <th>datetime</th>\n",
       "      <th>open</th>\n",
       "      <th>high</th>\n",
       "      <th>low</th>\n",
       "      <th>close</th>\n",
       "      <th>volume</th>\n",
       "      <th>next_open</th>\n",
       "    </tr>\n",
       "  </thead>\n",
       "  <tbody>\n",
       "    <tr>\n",
       "      <th>33256</th>\n",
       "      <td>2005-01-03 09:30:00+00:00</td>\n",
       "      <td>36.738</td>\n",
       "      <td>36.981</td>\n",
       "      <td>36.460</td>\n",
       "      <td>36.730</td>\n",
       "      <td>909200</td>\n",
       "      <td>36.738</td>\n",
       "    </tr>\n",
       "    <tr>\n",
       "      <th>33255</th>\n",
       "      <td>2005-01-03 10:00:00+00:00</td>\n",
       "      <td>36.738</td>\n",
       "      <td>36.865</td>\n",
       "      <td>36.373</td>\n",
       "      <td>36.521</td>\n",
       "      <td>941700</td>\n",
       "      <td>36.535</td>\n",
       "    </tr>\n",
       "    <tr>\n",
       "      <th>7779</th>\n",
       "      <td>2005-01-03 10:30:00+00:00</td>\n",
       "      <td>36.535</td>\n",
       "      <td>36.661</td>\n",
       "      <td>36.327</td>\n",
       "      <td>36.515</td>\n",
       "      <td>435700</td>\n",
       "      <td>36.523</td>\n",
       "    </tr>\n",
       "    <tr>\n",
       "      <th>40536</th>\n",
       "      <td>2005-01-03 11:00:00+00:00</td>\n",
       "      <td>36.523</td>\n",
       "      <td>36.667</td>\n",
       "      <td>36.292</td>\n",
       "      <td>36.469</td>\n",
       "      <td>551800</td>\n",
       "      <td>36.483</td>\n",
       "    </tr>\n",
       "    <tr>\n",
       "      <th>86311</th>\n",
       "      <td>2005-01-03 11:30:00+00:00</td>\n",
       "      <td>36.483</td>\n",
       "      <td>36.615</td>\n",
       "      <td>36.298</td>\n",
       "      <td>36.446</td>\n",
       "      <td>443200</td>\n",
       "      <td>36.448</td>\n",
       "    </tr>\n",
       "    <tr>\n",
       "      <th>...</th>\n",
       "      <td>...</td>\n",
       "      <td>...</td>\n",
       "      <td>...</td>\n",
       "      <td>...</td>\n",
       "      <td>...</td>\n",
       "      <td>...</td>\n",
       "      <td>...</td>\n",
       "    </tr>\n",
       "    <tr>\n",
       "      <th>91592</th>\n",
       "      <td>2023-08-31 17:30:00+00:00</td>\n",
       "      <td>159.466</td>\n",
       "      <td>159.492</td>\n",
       "      <td>159.002</td>\n",
       "      <td>159.167</td>\n",
       "      <td>10146</td>\n",
       "      <td>159.150</td>\n",
       "    </tr>\n",
       "    <tr>\n",
       "      <th>77034</th>\n",
       "      <td>2023-08-31 18:00:00+00:00</td>\n",
       "      <td>159.150</td>\n",
       "      <td>159.501</td>\n",
       "      <td>158.992</td>\n",
       "      <td>159.315</td>\n",
       "      <td>764</td>\n",
       "      <td>159.180</td>\n",
       "    </tr>\n",
       "    <tr>\n",
       "      <th>92327</th>\n",
       "      <td>2023-08-31 18:30:00+00:00</td>\n",
       "      <td>159.180</td>\n",
       "      <td>159.472</td>\n",
       "      <td>159.140</td>\n",
       "      <td>159.197</td>\n",
       "      <td>2252469</td>\n",
       "      <td>159.180</td>\n",
       "    </tr>\n",
       "    <tr>\n",
       "      <th>92326</th>\n",
       "      <td>2023-08-31 19:00:00+00:00</td>\n",
       "      <td>159.180</td>\n",
       "      <td>159.442</td>\n",
       "      <td>159.140</td>\n",
       "      <td>159.305</td>\n",
       "      <td>2252570</td>\n",
       "      <td>159.377</td>\n",
       "    </tr>\n",
       "    <tr>\n",
       "      <th>90841</th>\n",
       "      <td>2023-08-31 19:30:00+00:00</td>\n",
       "      <td>159.377</td>\n",
       "      <td>159.403</td>\n",
       "      <td>159.042</td>\n",
       "      <td>159.393</td>\n",
       "      <td>202</td>\n",
       "      <td>NaN</td>\n",
       "    </tr>\n",
       "  </tbody>\n",
       "</table>\n",
       "<p>95418 rows × 7 columns</p>\n",
       "</div>"
      ],
      "text/plain": [
       "                       datetime     open     high      low    close   volume  \\\n",
       "33256 2005-01-03 09:30:00+00:00   36.738   36.981   36.460   36.730   909200   \n",
       "33255 2005-01-03 10:00:00+00:00   36.738   36.865   36.373   36.521   941700   \n",
       "7779  2005-01-03 10:30:00+00:00   36.535   36.661   36.327   36.515   435700   \n",
       "40536 2005-01-03 11:00:00+00:00   36.523   36.667   36.292   36.469   551800   \n",
       "86311 2005-01-03 11:30:00+00:00   36.483   36.615   36.298   36.446   443200   \n",
       "...                         ...      ...      ...      ...      ...      ...   \n",
       "91592 2023-08-31 17:30:00+00:00  159.466  159.492  159.002  159.167    10146   \n",
       "77034 2023-08-31 18:00:00+00:00  159.150  159.501  158.992  159.315      764   \n",
       "92327 2023-08-31 18:30:00+00:00  159.180  159.472  159.140  159.197  2252469   \n",
       "92326 2023-08-31 19:00:00+00:00  159.180  159.442  159.140  159.305  2252570   \n",
       "90841 2023-08-31 19:30:00+00:00  159.377  159.403  159.042  159.393      202   \n",
       "\n",
       "       next_open  \n",
       "33256     36.738  \n",
       "33255     36.535  \n",
       "7779      36.523  \n",
       "40536     36.483  \n",
       "86311     36.448  \n",
       "...          ...  \n",
       "91592    159.150  \n",
       "77034    159.180  \n",
       "92327    159.180  \n",
       "92326    159.377  \n",
       "90841        NaN  \n",
       "\n",
       "[95418 rows x 7 columns]"
      ]
     },
     "execution_count": 134,
     "metadata": {},
     "output_type": "execute_result"
    }
   ],
   "source": [
    "df"
   ]
  },
  {
   "cell_type": "code",
   "execution_count": 135,
   "id": "8eea2203",
   "metadata": {},
   "outputs": [],
   "source": [
    "def classify_movement(current, next_val):\n",
    "    if next_val > current:\n",
    "        return 'up'\n",
    "    elif next_val < current:\n",
    "        return 'down'\n",
    "    else:\n",
    "        return 'neutral'\n"
   ]
  },
  {
   "cell_type": "code",
   "execution_count": 136,
   "id": "a3f1d722",
   "metadata": {},
   "outputs": [],
   "source": [
    "df['up_down_neutral'] = df.apply(lambda row: classify_movement(row['open'], row['next_open']), axis=1)"
   ]
  },
  {
   "cell_type": "code",
   "execution_count": 137,
   "id": "1e3cea92",
   "metadata": {},
   "outputs": [],
   "source": [
    "df = df.dropna(subset=['next_open'])\n"
   ]
  },
  {
   "cell_type": "code",
   "execution_count": 138,
   "id": "83b30a63",
   "metadata": {},
   "outputs": [],
   "source": [
    "df = df.drop(columns=['next_open'])\n"
   ]
  },
  {
   "cell_type": "code",
   "execution_count": 141,
   "id": "e4bf1821",
   "metadata": {},
   "outputs": [],
   "source": [
    "df_small = df[['datetime', 'open', 'up_down_neutral']]"
   ]
  },
  {
   "cell_type": "code",
   "execution_count": 142,
   "id": "768e7191",
   "metadata": {},
   "outputs": [],
   "source": [
    "import pandas as pd\n",
    "import numpy as np\n",
    "from sklearn.preprocessing import LabelEncoder, MinMaxScaler\n",
    "from sklearn.model_selection import train_test_split"
   ]
  },
  {
   "cell_type": "code",
   "execution_count": 143,
   "id": "3ff0b29c",
   "metadata": {},
   "outputs": [],
   "source": [
    "label_encoder = LabelEncoder()\n",
    "df['label'] = label_encoder.fit_transform(df['up_down_neutral'])\n"
   ]
  },
  {
   "cell_type": "code",
   "execution_count": 144,
   "id": "0a3da66c",
   "metadata": {},
   "outputs": [],
   "source": [
    "X = df[['open', 'high', 'low', 'close', 'volume']].values\n",
    "y = df['label'].values"
   ]
  },
  {
   "cell_type": "code",
   "execution_count": 145,
   "id": "1cc001f1",
   "metadata": {},
   "outputs": [],
   "source": [
    "scaler = MinMaxScaler(feature_range=(0, 1))\n",
    "X = scaler.fit_transform(X)"
   ]
  },
  {
   "cell_type": "code",
   "execution_count": 146,
   "id": "94a356d3",
   "metadata": {},
   "outputs": [],
   "source": [
    "X = X.reshape((X.shape[0], 1, X.shape[1]))\n"
   ]
  },
  {
   "cell_type": "code",
   "execution_count": 147,
   "id": "8fa2a8a4",
   "metadata": {},
   "outputs": [],
   "source": [
    "X_windows = []\n",
    "y_windows = []"
   ]
  },
  {
   "cell_type": "code",
   "execution_count": 150,
   "id": "9d0a35ba",
   "metadata": {},
   "outputs": [],
   "source": [
    "window_size =30"
   ]
  },
  {
   "cell_type": "code",
   "execution_count": 151,
   "id": "006fcb87",
   "metadata": {},
   "outputs": [],
   "source": [
    "for i in range(len(X) - window_size):\n",
    "    X_windows.append(X[i:i + window_size])\n",
    "    y_windows.append(y[i + window_size])\n",
    "\n",
    "X_windows = np.array(X_windows)\n",
    "y_windows = np.array(y_windows)"
   ]
  },
  {
   "cell_type": "code",
   "execution_count": 152,
   "id": "97a34852",
   "metadata": {},
   "outputs": [],
   "source": [
    "X_windows = np.array(X_windows)\n",
    "y_windows = np.array(y_windows)"
   ]
  },
  {
   "cell_type": "code",
   "execution_count": 158,
   "id": "5c8959ec",
   "metadata": {},
   "outputs": [],
   "source": [
    "X_windows = X_windows.reshape((95387,30,5))"
   ]
  },
  {
   "cell_type": "code",
   "execution_count": 163,
   "id": "f6d94c28",
   "metadata": {},
   "outputs": [],
   "source": [
    "y_windows = y_windows.reshape((95387,1))"
   ]
  },
  {
   "cell_type": "code",
   "execution_count": 164,
   "id": "d3d8c06b",
   "metadata": {},
   "outputs": [],
   "source": [
    "X_train, X_test, y_train, y_test = train_test_split(X_windows, y_windows, test_size=0.2, shuffle=False)\n"
   ]
  },
  {
   "cell_type": "code",
   "execution_count": 165,
   "id": "9b950a4c",
   "metadata": {},
   "outputs": [
    {
     "name": "stderr",
     "output_type": "stream",
     "text": [
      "/Users/oscarthieleserrano/.pyenv/versions/3.10.6/envs/portfolio_manager/lib/python3.10/site-packages/keras/src/layers/rnn/rnn.py:204: UserWarning: Do not pass an `input_shape`/`input_dim` argument to a layer. When using Sequential models, prefer using an `Input(shape)` object as the first layer in the model instead.\n",
      "  super().__init__(**kwargs)\n"
     ]
    }
   ],
   "source": [
    "model = Sequential()\n",
    "model.add(LSTM(units=50, return_sequences=True, input_shape=(window_size, X_train.shape[2])))\n",
    "model.add(Dropout(0.2))\n",
    "model.add(LSTM(units=50, return_sequences=False))\n",
    "model.add(Dropout(0.2))\n",
    "model.add(Dense(units=25, activation='relu'))\n",
    "model.add(Dense(units=3, activation='softmax'))  # 3 classes: up, down, neutral\n"
   ]
  },
  {
   "cell_type": "code",
   "execution_count": 166,
   "id": "2b7b9b43",
   "metadata": {},
   "outputs": [],
   "source": [
    "model.compile(optimizer='adam', loss='sparse_categorical_crossentropy', metrics=['accuracy'])\n"
   ]
  },
  {
   "cell_type": "code",
   "execution_count": 167,
   "id": "ac7ab611",
   "metadata": {},
   "outputs": [
    {
     "data": {
      "text/html": [
       "<pre style=\"white-space:pre;overflow-x:auto;line-height:normal;font-family:Menlo,'DejaVu Sans Mono',consolas,'Courier New',monospace\"><span style=\"font-weight: bold\">Model: \"sequential_4\"</span>\n",
       "</pre>\n"
      ],
      "text/plain": [
       "\u001b[1mModel: \"sequential_4\"\u001b[0m\n"
      ]
     },
     "metadata": {},
     "output_type": "display_data"
    },
    {
     "data": {
      "text/html": [
       "<pre style=\"white-space:pre;overflow-x:auto;line-height:normal;font-family:Menlo,'DejaVu Sans Mono',consolas,'Courier New',monospace\">┏━━━━━━━━━━━━━━━━━━━━━━━━━━━━━━━━━┳━━━━━━━━━━━━━━━━━━━━━━━━┳━━━━━━━━━━━━━━━┓\n",
       "┃<span style=\"font-weight: bold\"> Layer (type)                    </span>┃<span style=\"font-weight: bold\"> Output Shape           </span>┃<span style=\"font-weight: bold\">       Param # </span>┃\n",
       "┡━━━━━━━━━━━━━━━━━━━━━━━━━━━━━━━━━╇━━━━━━━━━━━━━━━━━━━━━━━━╇━━━━━━━━━━━━━━━┩\n",
       "│ lstm_18 (<span style=\"color: #0087ff; text-decoration-color: #0087ff\">LSTM</span>)                  │ (<span style=\"color: #00d7ff; text-decoration-color: #00d7ff\">None</span>, <span style=\"color: #00af00; text-decoration-color: #00af00\">30</span>, <span style=\"color: #00af00; text-decoration-color: #00af00\">50</span>)         │        <span style=\"color: #00af00; text-decoration-color: #00af00\">11,200</span> │\n",
       "├─────────────────────────────────┼────────────────────────┼───────────────┤\n",
       "│ dropout_6 (<span style=\"color: #0087ff; text-decoration-color: #0087ff\">Dropout</span>)             │ (<span style=\"color: #00d7ff; text-decoration-color: #00d7ff\">None</span>, <span style=\"color: #00af00; text-decoration-color: #00af00\">30</span>, <span style=\"color: #00af00; text-decoration-color: #00af00\">50</span>)         │             <span style=\"color: #00af00; text-decoration-color: #00af00\">0</span> │\n",
       "├─────────────────────────────────┼────────────────────────┼───────────────┤\n",
       "│ lstm_19 (<span style=\"color: #0087ff; text-decoration-color: #0087ff\">LSTM</span>)                  │ (<span style=\"color: #00d7ff; text-decoration-color: #00d7ff\">None</span>, <span style=\"color: #00af00; text-decoration-color: #00af00\">50</span>)             │        <span style=\"color: #00af00; text-decoration-color: #00af00\">20,200</span> │\n",
       "├─────────────────────────────────┼────────────────────────┼───────────────┤\n",
       "│ dropout_7 (<span style=\"color: #0087ff; text-decoration-color: #0087ff\">Dropout</span>)             │ (<span style=\"color: #00d7ff; text-decoration-color: #00d7ff\">None</span>, <span style=\"color: #00af00; text-decoration-color: #00af00\">50</span>)             │             <span style=\"color: #00af00; text-decoration-color: #00af00\">0</span> │\n",
       "├─────────────────────────────────┼────────────────────────┼───────────────┤\n",
       "│ dense_15 (<span style=\"color: #0087ff; text-decoration-color: #0087ff\">Dense</span>)                │ (<span style=\"color: #00d7ff; text-decoration-color: #00d7ff\">None</span>, <span style=\"color: #00af00; text-decoration-color: #00af00\">25</span>)             │         <span style=\"color: #00af00; text-decoration-color: #00af00\">1,275</span> │\n",
       "├─────────────────────────────────┼────────────────────────┼───────────────┤\n",
       "│ dense_16 (<span style=\"color: #0087ff; text-decoration-color: #0087ff\">Dense</span>)                │ (<span style=\"color: #00d7ff; text-decoration-color: #00d7ff\">None</span>, <span style=\"color: #00af00; text-decoration-color: #00af00\">3</span>)              │            <span style=\"color: #00af00; text-decoration-color: #00af00\">78</span> │\n",
       "└─────────────────────────────────┴────────────────────────┴───────────────┘\n",
       "</pre>\n"
      ],
      "text/plain": [
       "┏━━━━━━━━━━━━━━━━━━━━━━━━━━━━━━━━━┳━━━━━━━━━━━━━━━━━━━━━━━━┳━━━━━━━━━━━━━━━┓\n",
       "┃\u001b[1m \u001b[0m\u001b[1mLayer (type)                   \u001b[0m\u001b[1m \u001b[0m┃\u001b[1m \u001b[0m\u001b[1mOutput Shape          \u001b[0m\u001b[1m \u001b[0m┃\u001b[1m \u001b[0m\u001b[1m      Param #\u001b[0m\u001b[1m \u001b[0m┃\n",
       "┡━━━━━━━━━━━━━━━━━━━━━━━━━━━━━━━━━╇━━━━━━━━━━━━━━━━━━━━━━━━╇━━━━━━━━━━━━━━━┩\n",
       "│ lstm_18 (\u001b[38;5;33mLSTM\u001b[0m)                  │ (\u001b[38;5;45mNone\u001b[0m, \u001b[38;5;34m30\u001b[0m, \u001b[38;5;34m50\u001b[0m)         │        \u001b[38;5;34m11,200\u001b[0m │\n",
       "├─────────────────────────────────┼────────────────────────┼───────────────┤\n",
       "│ dropout_6 (\u001b[38;5;33mDropout\u001b[0m)             │ (\u001b[38;5;45mNone\u001b[0m, \u001b[38;5;34m30\u001b[0m, \u001b[38;5;34m50\u001b[0m)         │             \u001b[38;5;34m0\u001b[0m │\n",
       "├─────────────────────────────────┼────────────────────────┼───────────────┤\n",
       "│ lstm_19 (\u001b[38;5;33mLSTM\u001b[0m)                  │ (\u001b[38;5;45mNone\u001b[0m, \u001b[38;5;34m50\u001b[0m)             │        \u001b[38;5;34m20,200\u001b[0m │\n",
       "├─────────────────────────────────┼────────────────────────┼───────────────┤\n",
       "│ dropout_7 (\u001b[38;5;33mDropout\u001b[0m)             │ (\u001b[38;5;45mNone\u001b[0m, \u001b[38;5;34m50\u001b[0m)             │             \u001b[38;5;34m0\u001b[0m │\n",
       "├─────────────────────────────────┼────────────────────────┼───────────────┤\n",
       "│ dense_15 (\u001b[38;5;33mDense\u001b[0m)                │ (\u001b[38;5;45mNone\u001b[0m, \u001b[38;5;34m25\u001b[0m)             │         \u001b[38;5;34m1,275\u001b[0m │\n",
       "├─────────────────────────────────┼────────────────────────┼───────────────┤\n",
       "│ dense_16 (\u001b[38;5;33mDense\u001b[0m)                │ (\u001b[38;5;45mNone\u001b[0m, \u001b[38;5;34m3\u001b[0m)              │            \u001b[38;5;34m78\u001b[0m │\n",
       "└─────────────────────────────────┴────────────────────────┴───────────────┘\n"
      ]
     },
     "metadata": {},
     "output_type": "display_data"
    },
    {
     "data": {
      "text/html": [
       "<pre style=\"white-space:pre;overflow-x:auto;line-height:normal;font-family:Menlo,'DejaVu Sans Mono',consolas,'Courier New',monospace\"><span style=\"font-weight: bold\"> Total params: </span><span style=\"color: #00af00; text-decoration-color: #00af00\">32,753</span> (127.94 KB)\n",
       "</pre>\n"
      ],
      "text/plain": [
       "\u001b[1m Total params: \u001b[0m\u001b[38;5;34m32,753\u001b[0m (127.94 KB)\n"
      ]
     },
     "metadata": {},
     "output_type": "display_data"
    },
    {
     "data": {
      "text/html": [
       "<pre style=\"white-space:pre;overflow-x:auto;line-height:normal;font-family:Menlo,'DejaVu Sans Mono',consolas,'Courier New',monospace\"><span style=\"font-weight: bold\"> Trainable params: </span><span style=\"color: #00af00; text-decoration-color: #00af00\">32,753</span> (127.94 KB)\n",
       "</pre>\n"
      ],
      "text/plain": [
       "\u001b[1m Trainable params: \u001b[0m\u001b[38;5;34m32,753\u001b[0m (127.94 KB)\n"
      ]
     },
     "metadata": {},
     "output_type": "display_data"
    },
    {
     "data": {
      "text/html": [
       "<pre style=\"white-space:pre;overflow-x:auto;line-height:normal;font-family:Menlo,'DejaVu Sans Mono',consolas,'Courier New',monospace\"><span style=\"font-weight: bold\"> Non-trainable params: </span><span style=\"color: #00af00; text-decoration-color: #00af00\">0</span> (0.00 B)\n",
       "</pre>\n"
      ],
      "text/plain": [
       "\u001b[1m Non-trainable params: \u001b[0m\u001b[38;5;34m0\u001b[0m (0.00 B)\n"
      ]
     },
     "metadata": {},
     "output_type": "display_data"
    }
   ],
   "source": [
    "model.summary()"
   ]
  },
  {
   "cell_type": "code",
   "execution_count": 168,
   "id": "2052cd97",
   "metadata": {},
   "outputs": [
    {
     "name": "stdout",
     "output_type": "stream",
     "text": [
      "Epoch 1/20\n",
      "\u001b[1m2385/2385\u001b[0m \u001b[32m━━━━━━━━━━━━━━━━━━━━\u001b[0m\u001b[37m\u001b[0m \u001b[1m23s\u001b[0m 9ms/step - accuracy: 0.4653 - loss: 0.8913 - val_accuracy: 0.4762 - val_loss: 0.8605\n",
      "Epoch 2/20\n",
      "\u001b[1m2385/2385\u001b[0m \u001b[32m━━━━━━━━━━━━━━━━━━━━\u001b[0m\u001b[37m\u001b[0m \u001b[1m22s\u001b[0m 9ms/step - accuracy: 0.4693 - loss: 0.8806 - val_accuracy: 0.4727 - val_loss: 0.8603\n",
      "Epoch 3/20\n",
      "\u001b[1m2385/2385\u001b[0m \u001b[32m━━━━━━━━━━━━━━━━━━━━\u001b[0m\u001b[37m\u001b[0m \u001b[1m22s\u001b[0m 9ms/step - accuracy: 0.4687 - loss: 0.8827 - val_accuracy: 0.4727 - val_loss: 0.8596\n",
      "Epoch 4/20\n",
      "\u001b[1m2385/2385\u001b[0m \u001b[32m━━━━━━━━━━━━━━━━━━━━\u001b[0m\u001b[37m\u001b[0m \u001b[1m22s\u001b[0m 9ms/step - accuracy: 0.4720 - loss: 0.8815 - val_accuracy: 0.4762 - val_loss: 0.8611\n",
      "Epoch 5/20\n",
      "\u001b[1m2385/2385\u001b[0m \u001b[32m━━━━━━━━━━━━━━━━━━━━\u001b[0m\u001b[37m\u001b[0m \u001b[1m22s\u001b[0m 9ms/step - accuracy: 0.4681 - loss: 0.8806 - val_accuracy: 0.4727 - val_loss: 0.8595\n",
      "Epoch 6/20\n",
      "\u001b[1m2385/2385\u001b[0m \u001b[32m━━━━━━━━━━━━━━━━━━━━\u001b[0m\u001b[37m\u001b[0m \u001b[1m22s\u001b[0m 9ms/step - accuracy: 0.4700 - loss: 0.8806 - val_accuracy: 0.4762 - val_loss: 0.8597\n",
      "Epoch 7/20\n",
      "\u001b[1m2385/2385\u001b[0m \u001b[32m━━━━━━━━━━━━━━━━━━━━\u001b[0m\u001b[37m\u001b[0m \u001b[1m22s\u001b[0m 9ms/step - accuracy: 0.4694 - loss: 0.8784 - val_accuracy: 0.4762 - val_loss: 0.8595\n",
      "Epoch 8/20\n",
      "\u001b[1m2385/2385\u001b[0m \u001b[32m━━━━━━━━━━━━━━━━━━━━\u001b[0m\u001b[37m\u001b[0m \u001b[1m22s\u001b[0m 9ms/step - accuracy: 0.4745 - loss: 0.8769 - val_accuracy: 0.4762 - val_loss: 0.8595\n",
      "Epoch 9/20\n",
      "\u001b[1m2385/2385\u001b[0m \u001b[32m━━━━━━━━━━━━━━━━━━━━\u001b[0m\u001b[37m\u001b[0m \u001b[1m22s\u001b[0m 9ms/step - accuracy: 0.4696 - loss: 0.8801 - val_accuracy: 0.4727 - val_loss: 0.8596\n",
      "Epoch 10/20\n",
      "\u001b[1m2385/2385\u001b[0m \u001b[32m━━━━━━━━━━━━━━━━━━━━\u001b[0m\u001b[37m\u001b[0m \u001b[1m22s\u001b[0m 9ms/step - accuracy: 0.4698 - loss: 0.8812 - val_accuracy: 0.4762 - val_loss: 0.8605\n",
      "Epoch 11/20\n",
      "\u001b[1m2385/2385\u001b[0m \u001b[32m━━━━━━━━━━━━━━━━━━━━\u001b[0m\u001b[37m\u001b[0m \u001b[1m22s\u001b[0m 9ms/step - accuracy: 0.4709 - loss: 0.8765 - val_accuracy: 0.4726 - val_loss: 0.8593\n",
      "Epoch 12/20\n",
      "\u001b[1m2385/2385\u001b[0m \u001b[32m━━━━━━━━━━━━━━━━━━━━\u001b[0m\u001b[37m\u001b[0m \u001b[1m22s\u001b[0m 9ms/step - accuracy: 0.4683 - loss: 0.8786 - val_accuracy: 0.4762 - val_loss: 0.8594\n",
      "Epoch 13/20\n",
      "\u001b[1m2385/2385\u001b[0m \u001b[32m━━━━━━━━━━━━━━━━━━━━\u001b[0m\u001b[37m\u001b[0m \u001b[1m22s\u001b[0m 9ms/step - accuracy: 0.4696 - loss: 0.8777 - val_accuracy: 0.4723 - val_loss: 0.8593\n",
      "Epoch 14/20\n",
      "\u001b[1m2385/2385\u001b[0m \u001b[32m━━━━━━━━━━━━━━━━━━━━\u001b[0m\u001b[37m\u001b[0m \u001b[1m22s\u001b[0m 9ms/step - accuracy: 0.4747 - loss: 0.8746 - val_accuracy: 0.4762 - val_loss: 0.8604\n",
      "Epoch 15/20\n",
      "\u001b[1m2385/2385\u001b[0m \u001b[32m━━━━━━━━━━━━━━━━━━━━\u001b[0m\u001b[37m\u001b[0m \u001b[1m22s\u001b[0m 9ms/step - accuracy: 0.4741 - loss: 0.8805 - val_accuracy: 0.4728 - val_loss: 0.8598\n",
      "Epoch 16/20\n",
      "\u001b[1m2385/2385\u001b[0m \u001b[32m━━━━━━━━━━━━━━━━━━━━\u001b[0m\u001b[37m\u001b[0m \u001b[1m22s\u001b[0m 9ms/step - accuracy: 0.4711 - loss: 0.8755 - val_accuracy: 0.4764 - val_loss: 0.8662\n",
      "Epoch 17/20\n",
      "\u001b[1m2385/2385\u001b[0m \u001b[32m━━━━━━━━━━━━━━━━━━━━\u001b[0m\u001b[37m\u001b[0m \u001b[1m22s\u001b[0m 9ms/step - accuracy: 0.4700 - loss: 0.8778 - val_accuracy: 0.4731 - val_loss: 0.8556\n",
      "Epoch 18/20\n",
      "\u001b[1m2385/2385\u001b[0m \u001b[32m━━━━━━━━━━━━━━━━━━━━\u001b[0m\u001b[37m\u001b[0m \u001b[1m22s\u001b[0m 9ms/step - accuracy: 0.4713 - loss: 0.8747 - val_accuracy: 0.4763 - val_loss: 0.8487\n",
      "Epoch 19/20\n",
      "\u001b[1m2385/2385\u001b[0m \u001b[32m━━━━━━━━━━━━━━━━━━━━\u001b[0m\u001b[37m\u001b[0m \u001b[1m22s\u001b[0m 9ms/step - accuracy: 0.4744 - loss: 0.8662 - val_accuracy: 0.4779 - val_loss: 0.8568\n",
      "Epoch 20/20\n",
      "\u001b[1m2385/2385\u001b[0m \u001b[32m━━━━━━━━━━━━━━━━━━━━\u001b[0m\u001b[37m\u001b[0m \u001b[1m22s\u001b[0m 9ms/step - accuracy: 0.4731 - loss: 0.8684 - val_accuracy: 0.4781 - val_loss: 0.8472\n"
     ]
    },
    {
     "data": {
      "text/plain": [
       "<keras.src.callbacks.history.History at 0x16b4ea9b0>"
      ]
     },
     "execution_count": 168,
     "metadata": {},
     "output_type": "execute_result"
    }
   ],
   "source": [
    "\n",
    "model.fit(X_train, y_train, epochs=20, batch_size=32, validation_data=(X_test, y_test))"
   ]
  },
  {
   "cell_type": "code",
   "execution_count": null,
   "id": "cb49d69c",
   "metadata": {},
   "outputs": [],
   "source": []
  }
 ],
 "metadata": {
  "kernelspec": {
   "display_name": "Python 3 (ipykernel)",
   "language": "python",
   "name": "python3"
  },
  "language_info": {
   "codemirror_mode": {
    "name": "ipython",
    "version": 3
   },
   "file_extension": ".py",
   "mimetype": "text/x-python",
   "name": "python",
   "nbconvert_exporter": "python",
   "pygments_lexer": "ipython3",
   "version": "3.10.6"
  },
  "toc": {
   "base_numbering": 1,
   "nav_menu": {},
   "number_sections": true,
   "sideBar": true,
   "skip_h1_title": false,
   "title_cell": "Table of Contents",
   "title_sidebar": "Contents",
   "toc_cell": false,
   "toc_position": {},
   "toc_section_display": true,
   "toc_window_display": false
  }
 },
 "nbformat": 4,
 "nbformat_minor": 5
}
